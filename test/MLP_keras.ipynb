{
 "cells": [
  {
   "cell_type": "markdown",
   "metadata": {},
   "source": [
    "# Prepare data"
   ]
  },
  {
   "cell_type": "code",
   "execution_count": 75,
   "metadata": {
    "collapsed": false
   },
   "outputs": [
    {
     "data": {
      "image/png": "[encoded data removed]",
      "text/plain": [
       "<matplotlib.figure.Figure at 0x7ff1eb748190>"
      ]
     },
     "metadata": {},
     "output_type": "display_data"
    }
   ],
   "source": [
    "%matplotlib inline\n",
    "import matplotlib.pyplot as plt\n",
    "import numpy as np\n",
    "import random, os, time\n",
    "\n",
    "with open(\"../data/extended4_train.csv\") as f:\n",
    "    training_lines_all = [line for line in f]\n",
    "    \n",
    "training_lines = [np.array(line.split(\",\"), dtype='float32') for line in training_lines_all[1:]]\n",
    "\n",
    "training_images = []\n",
    "training_labels = []\n",
    "training_set = []\n",
    "for line in training_lines:\n",
    "    one_hot = np.zeros((10), dtype='float32')\n",
    "    one_hot[int(line[0])] = 1.0\n",
    "    training_labels.append(one_hot)\n",
    "    training_images.append(np.array(line[1:], dtype='float32'))\n",
    "    training_set.append((one_hot, line[1:]))\n",
    "    \n",
    "training_images = np.array(training_images)\n",
    "training_labels = np.array(training_labels)\n",
    "    \n",
    "## See random 5 digit with their labels\n",
    "random.shuffle(training_set)\n",
    "fig = plt.figure()\n",
    "for i, digit in enumerate(training_set[:5]):\n",
    "    plt.subplot(1, 5, i + 1)\n",
    "    plt.xticks([])\n",
    "    plt.yticks([])\n",
    "    plt.title(digit[0].nonzero()[0][0])  ## Label\n",
    "    plt.imshow(digit[1].reshape((28, 28)), cmap=plt.cm.Greys)"
   ]
  },
  {
   "cell_type": "markdown",
   "metadata": {},
   "source": [
    "# Preparing network"
   ]
  },
  {
   "cell_type": "code",
   "execution_count": 82,
   "metadata": {
    "collapsed": false
   },
   "outputs": [],
   "source": [
    "from keras.models import Sequential\n",
    "from keras.layers import Dense, Dropout\n",
    "from keras.optimizers import SGD, Adam\n",
    "from keras.metrics import categorical_accuracy\n",
    "from keras.regularizers import l1_l2, l1, l2"
   ]
  },
  {
   "cell_type": "code",
   "execution_count": 76,
   "metadata": {
    "collapsed": true
   },
   "outputs": [],
   "source": [
    "## Hyper-parameters\n",
    "HIDDEN1 = 100\n",
    "HIDDEN2 = 100\n",
    "LR = 1e-3\n",
    "REG = 0.001\n",
    "DROP = 0.2\n",
    "BATCH_SIZE = 200\n",
    "EPOCH = 50\n",
    "VALIDATION = 0.2\n",
    "RESTORE = True\n",
    "\n",
    "MODEL_PATH = \"../model/MLP_keras/MLP_keras_hidden{}-{}\".format(HIDDEN1, HIDDEN2)"
   ]
  },
  {
   "cell_type": "code",
   "execution_count": 84,
   "metadata": {
    "collapsed": false,
    "scrolled": true
   },
   "outputs": [
    {
     "name": "stdout",
     "output_type": "stream",
     "text": [
      "Model restored.\n",
      "Train on 134400 samples, validate on 33600 samples\n",
      "Epoch 1/50\n",
      "134400/134400 [==============================] - 4s - loss: 0.7475 - categorical_accuracy: 0.8878 - val_loss: 0.8439 - val_categorical_accuracy: 0.8533\n",
      "Epoch 2/50\n",
      "134400/134400 [==============================] - 3s - loss: 0.7289 - categorical_accuracy: 0.8841 - val_loss: 0.8297 - val_categorical_accuracy: 0.8519\n",
      "Epoch 3/50\n",
      "134400/134400 [==============================] - 3s - loss: 0.7235 - categorical_accuracy: 0.8824 - val_loss: 0.7984 - val_categorical_accuracy: 0.8593\n",
      "Epoch 4/50\n",
      "134400/134400 [==============================] - 3s - loss: 0.7191 - categorical_accuracy: 0.8809 - val_loss: 0.7963 - val_categorical_accuracy: 0.8618\n",
      "Epoch 5/50\n",
      "134400/134400 [==============================] - 5s - loss: 0.7227 - categorical_accuracy: 0.8800 - val_loss: 0.7941 - val_categorical_accuracy: 0.8588\n",
      "Epoch 6/50\n",
      "134400/134400 [==============================] - 5s - loss: 0.7191 - categorical_accuracy: 0.8791 - val_loss: 0.7976 - val_categorical_accuracy: 0.8557\n",
      "Epoch 7/50\n",
      "134400/134400 [==============================] - 4s - loss: 0.7223 - categorical_accuracy: 0.8788 - val_loss: 0.8088 - val_categorical_accuracy: 0.8516\n",
      "Epoch 8/50\n",
      "134400/134400 [==============================] - 5s - loss: 0.7191 - categorical_accuracy: 0.8790 - val_loss: 0.8143 - val_categorical_accuracy: 0.8492\n",
      "Epoch 9/50\n",
      "134400/134400 [==============================] - 7s - loss: 0.7199 - categorical_accuracy: 0.8784 - val_loss: 0.7927 - val_categorical_accuracy: 0.8587\n",
      "Epoch 10/50\n",
      "134400/134400 [==============================] - 5s - loss: 0.7222 - categorical_accuracy: 0.8783 - val_loss: 0.8304 - val_categorical_accuracy: 0.8462\n",
      "Epoch 11/50\n",
      "134400/134400 [==============================] - 4s - loss: 0.7241 - categorical_accuracy: 0.8771 - val_loss: 0.7964 - val_categorical_accuracy: 0.8586\n",
      "Epoch 12/50\n",
      "134400/134400 [==============================] - 6s - loss: 0.7214 - categorical_accuracy: 0.8777 - val_loss: 0.7774 - val_categorical_accuracy: 0.8646\n",
      "Epoch 13/50\n",
      "134400/134400 [==============================] - 5s - loss: 0.7237 - categorical_accuracy: 0.8768 - val_loss: 0.8031 - val_categorical_accuracy: 0.8569\n",
      "Epoch 14/50\n",
      "134400/134400 [==============================] - 4s - loss: 0.7195 - categorical_accuracy: 0.8785 - val_loss: 0.8104 - val_categorical_accuracy: 0.8530\n",
      "Epoch 15/50\n",
      "134400/134400 [==============================] - 5s - loss: 0.7231 - categorical_accuracy: 0.8773 - val_loss: 0.8110 - val_categorical_accuracy: 0.8521\n",
      "Epoch 16/50\n",
      "134400/134400 [==============================] - 6s - loss: 0.7221 - categorical_accuracy: 0.8781 - val_loss: 0.8157 - val_categorical_accuracy: 0.8490\n",
      "Epoch 17/50\n",
      "134400/134400 [==============================] - 4s - loss: 0.7215 - categorical_accuracy: 0.8769 - val_loss: 0.8111 - val_categorical_accuracy: 0.8501\n",
      "Epoch 18/50\n",
      "134400/134400 [==============================] - 5s - loss: 0.7209 - categorical_accuracy: 0.8777 - val_loss: 0.8154 - val_categorical_accuracy: 0.8522\n",
      "Epoch 19/50\n",
      "134400/134400 [==============================] - 6s - loss: 0.7222 - categorical_accuracy: 0.8778 - val_loss: 0.8000 - val_categorical_accuracy: 0.8545\n",
      "Epoch 20/50\n",
      "134400/134400 [==============================] - 5s - loss: 0.7201 - categorical_accuracy: 0.8785 - val_loss: 0.8224 - val_categorical_accuracy: 0.8438\n",
      "Epoch 21/50\n",
      "134400/134400 [==============================] - 5s - loss: 0.7216 - categorical_accuracy: 0.8774 - val_loss: 0.7984 - val_categorical_accuracy: 0.8568\n",
      "Epoch 22/50\n",
      "134400/134400 [==============================] - 6s - loss: 0.7240 - categorical_accuracy: 0.8767 - val_loss: 0.8246 - val_categorical_accuracy: 0.8472\n",
      "Epoch 23/50\n",
      "134400/134400 [==============================] - 5s - loss: 0.7241 - categorical_accuracy: 0.8767 - val_loss: 0.7973 - val_categorical_accuracy: 0.8582\n",
      "Epoch 24/50\n",
      "134400/134400 [==============================] - 4s - loss: 0.7238 - categorical_accuracy: 0.8772 - val_loss: 0.7931 - val_categorical_accuracy: 0.8557\n",
      "Epoch 25/50\n",
      "134400/134400 [==============================] - 5s - loss: 0.7234 - categorical_accuracy: 0.8768 - val_loss: 0.8113 - val_categorical_accuracy: 0.8532\n",
      "Epoch 26/50\n",
      "134400/134400 [==============================] - 6s - loss: 0.7216 - categorical_accuracy: 0.8780 - val_loss: 0.7863 - val_categorical_accuracy: 0.8608\n",
      "Epoch 27/50\n",
      "134400/134400 [==============================] - 5s - loss: 0.7210 - categorical_accuracy: 0.8782 - val_loss: 0.8081 - val_categorical_accuracy: 0.8509\n",
      "Epoch 28/50\n",
      "134400/134400 [==============================] - 5s - loss: 0.7243 - categorical_accuracy: 0.8766 - val_loss: 0.8104 - val_categorical_accuracy: 0.8522\n",
      "Epoch 29/50\n",
      "134400/134400 [==============================] - 6s - loss: 0.7266 - categorical_accuracy: 0.8768 - val_loss: 0.7918 - val_categorical_accuracy: 0.8590\n",
      "Epoch 30/50\n",
      "134400/134400 [==============================] - 6s - loss: 0.7224 - categorical_accuracy: 0.8787 - val_loss: 0.8098 - val_categorical_accuracy: 0.8534\n",
      "Epoch 31/50\n",
      "134400/134400 [==============================] - 5s - loss: 0.7227 - categorical_accuracy: 0.8777 - val_loss: 0.8172 - val_categorical_accuracy: 0.8490\n",
      "Epoch 32/50\n",
      "134400/134400 [==============================] - 5s - loss: 0.7256 - categorical_accuracy: 0.8765 - val_loss: 0.7957 - val_categorical_accuracy: 0.8589\n",
      "Epoch 33/50\n",
      "134400/134400 [==============================] - 6s - loss: 0.7249 - categorical_accuracy: 0.8760 - val_loss: 0.8160 - val_categorical_accuracy: 0.8512\n",
      "Epoch 34/50\n",
      "134400/134400 [==============================] - 5s - loss: 0.7269 - categorical_accuracy: 0.8768 - val_loss: 0.8034 - val_categorical_accuracy: 0.8552\n",
      "Epoch 35/50\n",
      "134400/134400 [==============================] - 5s - loss: 0.7272 - categorical_accuracy: 0.8758 - val_loss: 0.8221 - val_categorical_accuracy: 0.8483\n",
      "Epoch 36/50\n",
      "134400/134400 [==============================] - 6s - loss: 0.7238 - categorical_accuracy: 0.8772 - val_loss: 0.8063 - val_categorical_accuracy: 0.8552\n",
      "Epoch 37/50\n",
      "134400/134400 [==============================] - 6s - loss: 0.7244 - categorical_accuracy: 0.8763 - val_loss: 0.8075 - val_categorical_accuracy: 0.8536\n",
      "Epoch 38/50\n",
      "134400/134400 [==============================] - 5s - loss: 0.7261 - categorical_accuracy: 0.8770 - val_loss: 0.7988 - val_categorical_accuracy: 0.8579\n",
      "Epoch 39/50\n",
      "134400/134400 [==============================] - 5s - loss: 0.7222 - categorical_accuracy: 0.8774 - val_loss: 0.8214 - val_categorical_accuracy: 0.8508\n",
      "Epoch 40/50\n",
      "134400/134400 [==============================] - 6s - loss: 0.7224 - categorical_accuracy: 0.8785 - val_loss: 0.8062 - val_categorical_accuracy: 0.8532\n",
      "Epoch 41/50\n",
      "134400/134400 [==============================] - 6s - loss: 0.7222 - categorical_accuracy: 0.8788 - val_loss: 0.8103 - val_categorical_accuracy: 0.8533\n",
      "Epoch 42/50\n",
      "134400/134400 [==============================] - 5s - loss: 0.7266 - categorical_accuracy: 0.8756 - val_loss: 0.8202 - val_categorical_accuracy: 0.8504\n",
      "Epoch 43/50\n",
      "134400/134400 [==============================] - 5s - loss: 0.7248 - categorical_accuracy: 0.8778 - val_loss: 0.8021 - val_categorical_accuracy: 0.8565\n",
      "Epoch 44/50\n",
      "134400/134400 [==============================] - 8s - loss: 0.7229 - categorical_accuracy: 0.8773 - val_loss: 0.7915 - val_categorical_accuracy: 0.8603\n",
      "Epoch 45/50\n",
      "134400/134400 [==============================] - 8s - loss: 0.7224 - categorical_accuracy: 0.8776 - val_loss: 0.8187 - val_categorical_accuracy: 0.8518\n",
      "Epoch 46/50\n",
      "134400/134400 [==============================] - 5s - loss: 0.7231 - categorical_accuracy: 0.8767 - val_loss: 0.8148 - val_categorical_accuracy: 0.8528\n",
      "Epoch 47/50\n",
      "134400/134400 [==============================] - 5s - loss: 0.7258 - categorical_accuracy: 0.8777 - val_loss: 0.8085 - val_categorical_accuracy: 0.8560\n",
      "Epoch 48/50\n",
      "134400/134400 [==============================] - 7s - loss: 0.7232 - categorical_accuracy: 0.8776 - val_loss: 0.8292 - val_categorical_accuracy: 0.8498\n",
      "Epoch 49/50\n",
      "134400/134400 [==============================] - 8s - loss: 0.7267 - categorical_accuracy: 0.8768 - val_loss: 0.8385 - val_categorical_accuracy: 0.8444\n",
      "Epoch 50/50\n",
      "134400/134400 [==============================] - 5s - loss: 0.7212 - categorical_accuracy: 0.8778 - val_loss: 0.8063 - val_categorical_accuracy: 0.8539\n"
     ]
    }
   ],
   "source": [
    "model = Sequential()\n",
    "model.add(Dense(HIDDEN1, input_dim=784, kernel_initializer='truncated_normal', activation='relu', \\\n",
    "         kernel_regularizer=l1_l2(REG),\n",
    "         activity_regularizer=None))\n",
    "model.add(Dense(HIDDEN2, kernel_initializer='truncated_normal', activation='relu', \\\n",
    "         kernel_regularizer=l1_l2(REG),\n",
    "         activity_regularizer=None))\n",
    "model.add(Dropout(DROP))\n",
    "model.add(Dense(10, kernel_initializer='truncated_normal', activation='softmax', \\\n",
    "         kernel_regularizer=None,\n",
    "         activity_regularizer=None))\n",
    "sgd = SGD(lr=LR, momentum=0.9, decay=0.0, nesterov=True)\n",
    "model.compile(loss='categorical_crossentropy', optimizer=sgd, \\\n",
    "             metrics=[categorical_accuracy])\n",
    "\n",
    "if RESTORE and os.path.isfile(MODEL_PATH):\n",
    "    model.load_weights(MODEL_PATH)\n",
    "    print(\"Model restored.\")\n",
    "model.fit(training_images, training_labels, epochs=EPOCH, batch_size=BATCH_SIZE, \\\n",
    "         validation_split=VALIDATION)\n",
    "model.save_weights(MODEL_PATH)"
   ]
  },
  {
   "cell_type": "markdown",
   "metadata": {},
   "source": [
    "## Prepare test data"
   ]
  },
  {
   "cell_type": "code",
   "execution_count": 49,
   "metadata": {
    "collapsed": false
   },
   "outputs": [],
   "source": [
    "with open(\"../data/test.csv\") as f:\n",
    "\tlines = [line for line in f]\n",
    "\n",
    "test_images = [np.array(line.split(','), dtype='float32') for line in lines[1:]]\n",
    "test_images = np.array(test_images)"
   ]
  },
  {
   "cell_type": "markdown",
   "metadata": {},
   "source": [
    "# Predict test data"
   ]
  },
  {
   "cell_type": "code",
   "execution_count": 50,
   "metadata": {
    "collapsed": false
   },
   "outputs": [],
   "source": [
    "predictions = model.predict(test_images, batch_size=100)\n",
    "predictions = np.array([np.argmax(i) for i in predictions])"
   ]
  },
  {
   "cell_type": "code",
   "execution_count": 61,
   "metadata": {
    "collapsed": false
   },
   "outputs": [
    {
     "data": {
      "image/png": "[encoded data removed]",
      "text/plain": [
       "<matplotlib.figure.Figure at 0x7ff165471b10>"
      ]
     },
     "metadata": {},
     "output_type": "display_data"
    }
   ],
   "source": [
    "pred_set = zip(test_images, predictions)\n",
    "## See random 5 digit\n",
    "random.shuffle(pred_set)\n",
    "fig = plt.figure()\n",
    "for i, digit in enumerate(pred_set[:5]):\n",
    "    plt.subplot(1, 5, i + 1)\n",
    "    plt.xticks([])\n",
    "    plt.yticks([])\n",
    "    plt.title(digit[1])  ## Prediction\n",
    "    plt.imshow(digit[0].reshape((28, 28)), cmap=plt.cm.Greys)"
   ]
  },
  {
   "cell_type": "code",
   "execution_count": 65,
   "metadata": {
    "collapsed": false
   },
   "outputs": [],
   "source": [
    "with open(\"../data/MLP_keras_submission.csv\", \"w\") as sub:\n",
    "    sub.write(\"ImageId,Label\\n\")\n",
    "    for i in xrange(len(predictions)):\n",
    "        sub.write(str(i + 1) + \",\" + str(predictions[i]) + \"\\n\")"
   ]
  }
 ],
 "metadata": {
  "kernelspec": {
   "display_name": "Python 2",
   "language": "python",
   "name": "python2"
  },
  "language_info": {
   "codemirror_mode": {
    "name": "ipython",
    "version": 2
   },
   "file_extension": ".py",
   "mimetype": "text/x-python",
   "name": "python",
   "nbconvert_exporter": "python",
   "pygments_lexer": "ipython2",
   "version": "2.7.12"
  }
 },
 "nbformat": 4,
 "nbformat_minor": 0
}
