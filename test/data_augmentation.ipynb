{
 "cells": [
  {
   "cell_type": "code",
   "execution_count": 1,
   "metadata": {
    "collapsed": false
   },
   "outputs": [
    {
     "name": "stderr",
     "output_type": "stream",
     "text": [
      "Using TensorFlow backend.\n"
     ]
    }
   ],
   "source": [
    "from keras.preprocessing.image import ImageDataGenerator\n",
    "import matplotlib.pyplot as plt\n",
    "%matplotlib inline\n",
    "from keras import backend as K\n",
    "K.set_image_dim_ordering('th')\n",
    "import numpy as np"
   ]
  },
  {
   "cell_type": "code",
   "execution_count": 17,
   "metadata": {
    "collapsed": true
   },
   "outputs": [],
   "source": [
    "# Load data\n",
    "with open(\"../data/t.csv\") as f:\n",
    "    lines = [line for line in f]\n",
    "lines = [np.array(line.split(\",\"), dtype='float32') for line in lines]"
   ]
  },
  {
   "cell_type": "code",
   "execution_count": 18,
   "metadata": {
    "collapsed": false
   },
   "outputs": [
    {
     "data": {
      "text/plain": [
       "(785,)"
      ]
     },
     "execution_count": 18,
     "metadata": {},
     "output_type": "execute_result"
    }
   ],
   "source": [
    "lines[0].shape"
   ]
  },
  {
   "cell_type": "code",
   "execution_count": 19,
   "metadata": {
    "collapsed": false
   },
   "outputs": [
    {
     "data": {
      "image/png": "[encoded data removed]",
      "text/plain": [
       "<matplotlib.figure.Figure at 0x7fe2e0748050>"
      ]
     },
     "metadata": {},
     "output_type": "display_data"
    }
   ],
   "source": [
    "## See first n random digit with their labels\n",
    "n = 5\n",
    "fig = plt.figure()\n",
    "for i in xrange(n):\n",
    "    plt.subplot(1, n, i + 1)\n",
    "    plt.xticks([])\n",
    "    plt.yticks([])\n",
    "    plt.title(lines[i][0])  ## Label\n",
    "    plt.imshow(lines[i][1:].reshape((28, 28)), cmap=plt.cm.Greys)"
   ]
  },
  {
   "cell_type": "code",
   "execution_count": 2,
   "metadata": {
    "collapsed": false
   },
   "outputs": [],
   "source": [
    "# Load data\n",
    "with open(\"../data/train.csv\") as f:\n",
    "    lines = [line for line in f]\n",
    "lines = [np.array(line.split(\",\"), dtype='float32') for line in lines[1:]]"
   ]
  },
  {
   "cell_type": "code",
   "execution_count": 3,
   "metadata": {
    "collapsed": true
   },
   "outputs": [],
   "source": [
    "training_images = []\n",
    "training_labels = []\n",
    "for line in lines:\n",
    "    one_hot = np.zeros((10), dtype='float32')\n",
    "    one_hot[int(line[0])] = 1.0\n",
    "    training_labels.append(one_hot)\n",
    "    training_images.append(line[1:])\n",
    "training_images = np.array(training_images)\n",
    "training_labels = np.array(training_labels)\n",
    "training_set = [training_images, training_labels]\n",
    "training_images_origin = training_images[:]"
   ]
  },
  {
   "cell_type": "code",
   "execution_count": 4,
   "metadata": {
    "collapsed": false
   },
   "outputs": [],
   "source": [
    "## Reshape\n",
    "training_images = training_images.reshape(training_images.shape[0], 1, 28, 28)"
   ]
  },
  {
   "cell_type": "code",
   "execution_count": 5,
   "metadata": {
    "collapsed": true
   },
   "outputs": [],
   "source": [
    "# Convert from int to float\n",
    "training_images = training_images.astype('float32')"
   ]
  },
  {
   "cell_type": "code",
   "execution_count": 6,
   "metadata": {
    "collapsed": true
   },
   "outputs": [],
   "source": [
    "# Define data preparation\n",
    "datagen = ImageDataGenerator(featurewise_center=False,\n",
    "                            samplewise_center=False,\n",
    "                            featurewise_std_normalization=False,\n",
    "                            samplewise_std_normalization=False,\n",
    "                            zca_whitening=False,\n",
    "                            rotation_range=30.,\n",
    "                            width_shift_range=0.2,\n",
    "                            height_shift_range=0.2,\n",
    "                            shear_range=0.05,\n",
    "                            zoom_range=0.2,\n",
    "                            channel_shift_range=0.05,\n",
    "                            fill_mode='nearest',\n",
    "                            cval=0.,\n",
    "                            horizontal_flip=False,\n",
    "                            vertical_flip=False,\n",
    "                            rescale=None,\n",
    "                            dim_ordering=K.image_dim_ordering())"
   ]
  },
  {
   "cell_type": "code",
   "execution_count": 7,
   "metadata": {
    "collapsed": false
   },
   "outputs": [],
   "source": [
    "# Fit parameters from data\n",
    "datagen.fit(training_images)"
   ]
  },
  {
   "cell_type": "code",
   "execution_count": 8,
   "metadata": {
    "collapsed": false
   },
   "outputs": [
    {
     "data": {
      "image/png": "[encoded data removed]",
      "text/plain": [
       "<matplotlib.figure.Figure at 0x7fe2e0d1e490>"
      ]
     },
     "metadata": {},
     "output_type": "display_data"
    }
   ],
   "source": [
    "# Configure batch size and retrieve one batch of images\n",
    "for training_images, training_labels in datagen.flow(training_images, training_labels, batch_size=9):\n",
    "    for i in range(0, 9):\n",
    "        plt.subplot(330 + 1 + i)\n",
    "        plt.xticks([])\n",
    "        plt.yticks([])\n",
    "        plt.imshow(training_images[i].reshape(28, 28), cmap=plt.cm.gray)\n",
    "    plt.show()\n",
    "    break"
   ]
  },
  {
   "cell_type": "code",
   "execution_count": 9,
   "metadata": {
    "collapsed": false
   },
   "outputs": [
    {
     "name": "stdout",
     "output_type": "stream",
     "text": [
      "[[[  3.95422988e-02   3.95422988e-02   3.95422988e-02   3.95422988e-02\n",
      "     3.95422988e-02   3.95422988e-02   3.95422988e-02   3.95422988e-02\n",
      "     3.95422988e-02   1.00366964e+01   1.10366964e+01   1.83036682e+02\n",
      "     1.83036682e+02   5.20366974e+01   3.95422988e-02   3.95422988e-02\n",
      "     3.95422988e-02   3.95422988e-02   3.95422988e-02   3.95422988e-02\n",
      "     3.95422988e-02   3.95422988e-02   3.95422988e-02   3.95422988e-02\n",
      "     3.95422988e-02   3.95422988e-02   3.95422988e-02   3.95422988e-02]\n",
      "  [  3.95422988e-02   3.95422988e-02   3.95422988e-02   3.95422988e-02\n",
      "     3.95422988e-02   3.95422988e-02   3.95422988e-02   3.95422988e-02\n",
      "     3.95422988e-02   3.95422988e-02   1.72036682e+02   2.54036682e+02\n",
      "     2.53036682e+02   2.53036682e+02   5.10366974e+01   3.95422988e-02\n",
      "     3.95422988e-02   3.95422988e-02   3.95422988e-02   3.95422988e-02\n",
      "     3.95422988e-02   3.95422988e-02   3.95422988e-02   3.95422988e-02\n",
      "     3.95422988e-02   3.95422988e-02   3.95422988e-02   3.95422988e-02]\n",
      "  [  3.95422988e-02   3.95422988e-02   3.95422988e-02   3.95422988e-02\n",
      "     3.95422988e-02   3.95422988e-02   3.95422988e-02   3.95422988e-02\n",
      "     3.95422988e-02   1.72036682e+02   2.53036682e+02   2.53036682e+02\n",
      "     2.53036682e+02   2.53036682e+02   2.53036682e+02   1.13036697e+02\n",
      "     4.10366974e+01   3.95422988e-02   3.95422988e-02   3.95422988e-02\n",
      "     3.95422988e-02   3.95422988e-02   3.95422988e-02   3.95422988e-02\n",
      "     3.95422988e-02   3.95422988e-02   3.95422988e-02   3.95422988e-02]\n",
      "  [  3.95422988e-02   3.95422988e-02   3.95422988e-02   3.95422988e-02\n",
      "     3.95422988e-02   3.95422988e-02   3.95422988e-02   3.95422988e-02\n",
      "     3.95422988e-02   3.95422988e-02   3.95422988e-02   2.53036682e+02\n",
      "     2.53036682e+02   2.54036682e+02   2.52036682e+02   2.54036682e+02\n",
      "     2.54036682e+02   3.95422988e-02   3.95422988e-02   3.95422988e-02\n",
      "     3.95422988e-02   3.95422988e-02   3.95422988e-02   3.95422988e-02\n",
      "     3.95422988e-02   3.95422988e-02   3.95422988e-02   3.95422988e-02]\n",
      "  [  3.95422988e-02   3.95422988e-02   3.95422988e-02   3.95422988e-02\n",
      "     3.95422988e-02   3.95422988e-02   3.95422988e-02   3.95422988e-02\n",
      "     3.95422988e-02   3.95422988e-02   3.95422988e-02   9.10366974e+01\n",
      "     1.00366964e+01   1.00366964e+01   2.52036682e+02   2.53036682e+02\n",
      "     2.53036682e+02   2.53036682e+02   1.23036697e+02   3.95422988e-02\n",
      "     3.95422988e-02   3.95422988e-02   3.95422988e-02   3.95422988e-02\n",
      "     3.95422988e-02   3.95422988e-02   3.95422988e-02   3.95422988e-02]\n",
      "  [  2.10366974e+01   2.23036682e+02   3.95422988e-02   3.95422988e-02\n",
      "     3.95422988e-02   3.95422988e-02   3.95422988e-02   3.95422988e-02\n",
      "     3.95422988e-02   3.95422988e-02   3.95422988e-02   3.95422988e-02\n",
      "     1.00366964e+01   2.13036682e+02   1.42036682e+02   1.42036682e+02\n",
      "     2.53036682e+02   2.54036682e+02   2.54036682e+02   2.03036682e+02\n",
      "     3.10366974e+01   3.95422988e-02   3.95422988e-02   3.95422988e-02\n",
      "     3.95422988e-02   3.95422988e-02   3.95422988e-02   3.95422988e-02]\n",
      "  [  2.53036682e+02   2.53036682e+02   1.32036682e+02   2.53036682e+02\n",
      "     3.95422988e-02   3.95422988e-02   1.10366964e+01   3.95422988e-02\n",
      "     3.95422988e-02   3.95422988e-02   3.95422988e-02   3.95422988e-02\n",
      "     3.95422988e-02   3.95422988e-02   3.95422988e-02   2.52036682e+02\n",
      "     2.52036682e+02   1.31036682e+02   2.03036682e+02   2.33036682e+02\n",
      "     2.33036682e+02   5.10366974e+01   3.95422988e-02   3.95422988e-02\n",
      "     3.95422988e-02   3.95422988e-02   3.95422988e-02   3.95422988e-02]\n",
      "  [  2.44036682e+02   2.53036682e+02   2.52036682e+02   2.52036682e+02\n",
      "     2.13036682e+02   2.52036682e+02   2.52036682e+02   3.95422988e-02\n",
      "     6.20366974e+01   2.10366974e+01   2.10366974e+01   3.95422988e-02\n",
      "     3.95422988e-02   3.95422988e-02   3.95422988e-02   3.95422988e-02\n",
      "     3.95422988e-02   3.95422988e-02   2.53036682e+02   2.54036682e+02\n",
      "     5.10366974e+01   5.10366974e+01   5.10366974e+01   3.95422988e-02\n",
      "     3.95422988e-02   3.95422988e-02   3.95422988e-02   3.95422988e-02]\n",
      "  [  1.62036682e+02   2.44036682e+02   2.52036682e+02   2.54036682e+02\n",
      "     2.54036682e+02   2.33036682e+02   2.54036682e+02   2.53036682e+02\n",
      "     2.53036682e+02   2.10366974e+01   1.32036682e+02   1.32036682e+02\n",
      "     4.10366974e+01   5.10366974e+01   3.95422988e-02   3.95422988e-02\n",
      "     3.95422988e-02   5.00366974e+01   3.00366974e+01   3.00366974e+01\n",
      "     2.52036682e+02   2.53036682e+02   2.53036682e+02   3.95422988e-02\n",
      "     3.95422988e-02   3.95422988e-02   3.95422988e-02   3.95422988e-02]\n",
      "  [  3.95422988e-02   4.10366974e+01   4.10366974e+01   2.53036682e+02\n",
      "     2.33036682e+02   2.33036682e+02   2.53036682e+02   2.12036682e+02\n",
      "     2.53036682e+02   2.53036682e+02   2.53036682e+02   4.10366974e+01\n",
      "     2.33036682e+02   2.33036682e+02   1.93036682e+02   1.73036682e+02\n",
      "     1.73036682e+02   1.10366964e+01   3.00366974e+01   2.03036682e+02\n",
      "     2.03036682e+02   2.43036682e+02   5.10366974e+01   5.10366974e+01\n",
      "     5.10366974e+01   3.95422988e-02   3.95422988e-02   3.95422988e-02]\n",
      "  [  3.95422988e-02   3.95422988e-02   3.95422988e-02   3.95422988e-02\n",
      "     3.95422988e-02   1.83036682e+02   2.12036682e+02   2.12036682e+02\n",
      "     2.54036682e+02   1.92036682e+02   1.92036682e+02   2.53036682e+02\n",
      "     2.54036682e+02   1.93036682e+02   1.93036682e+02   2.54036682e+02\n",
      "     2.52036682e+02   2.14036682e+02   2.14036682e+02   8.20366974e+01\n",
      "     2.43036682e+02   2.43036682e+02   2.53036682e+02   1.31036682e+02\n",
      "     3.95422988e-02   3.95422988e-02   3.95422988e-02   3.95422988e-02]\n",
      "  [  1.53036682e+02   1.52036682e+02   3.95422988e-02   3.95422988e-02\n",
      "     3.95422988e-02   3.95422988e-02   3.95422988e-02   9.10366974e+01\n",
      "     9.10366974e+01   1.92036682e+02   2.33036682e+02   1.11036697e+02\n",
      "     1.11036697e+02   2.52036682e+02   2.53036682e+02   2.53036682e+02\n",
      "     2.52036682e+02   2.53036682e+02   2.14036682e+02   2.14036682e+02\n",
      "     2.43036682e+02   2.54997147e+02   1.31036682e+02   1.31036682e+02\n",
      "     3.95422988e-02   3.95422988e-02   3.95422988e-02   3.95422988e-02]\n",
      "  [  2.52036682e+02   3.95422988e-02   3.95422988e-02   3.95422988e-02\n",
      "     3.95422988e-02   3.95422988e-02   3.95422988e-02   3.95422988e-02\n",
      "     3.95422988e-02   3.95422988e-02   3.95422988e-02   1.11036697e+02\n",
      "     1.23036697e+02   1.23036697e+02   3.95422988e-02   2.53036682e+02\n",
      "     2.03036682e+02   2.03036682e+02   2.53036682e+02   2.03036682e+02\n",
      "     2.03036682e+02   2.33036682e+02   2.13036682e+02   3.95422988e-02\n",
      "     3.95422988e-02   3.95422988e-02   3.95422988e-02   3.95422988e-02]\n",
      "  [  2.52036682e+02   1.53036682e+02   1.52036682e+02   1.52036682e+02\n",
      "     3.95422988e-02   3.95422988e-02   3.95422988e-02   3.95422988e-02\n",
      "     3.95422988e-02   3.95422988e-02   3.95422988e-02   3.95422988e-02\n",
      "     3.95422988e-02   3.95422988e-02   3.95422988e-02   6.10366974e+01\n",
      "     3.95422988e-02   2.52036682e+02   2.52036682e+02   2.00366974e+01\n",
      "     7.00366974e+01   3.95422988e-02   3.95422988e-02   3.95422988e-02\n",
      "     3.95422988e-02   3.95422988e-02   3.95422988e-02   3.95422988e-02]\n",
      "  [  2.53036682e+02   2.53036682e+02   1.52036682e+02   3.95422988e-02\n",
      "     3.95422988e-02   3.95422988e-02   3.95422988e-02   3.95422988e-02\n",
      "     3.95422988e-02   3.95422988e-02   3.95422988e-02   3.95422988e-02\n",
      "     3.95422988e-02   3.95422988e-02   3.95422988e-02   3.95422988e-02\n",
      "     3.95422988e-02   3.95422988e-02   3.95422988e-02   3.95422988e-02\n",
      "     2.00366974e+01   3.95422988e-02   3.95422988e-02   3.95422988e-02\n",
      "     3.95422988e-02   3.95422988e-02   3.95422988e-02   3.95422988e-02]\n",
      "  [  2.03036682e+02   2.53036682e+02   2.53036682e+02   2.14036682e+02\n",
      "     3.95422988e-02   1.10366964e+01   1.10366964e+01   1.00366964e+01\n",
      "     3.95422988e-02   3.95422988e-02   3.95422988e-02   3.95422988e-02\n",
      "     3.95422988e-02   3.95422988e-02   3.95422988e-02   3.95422988e-02\n",
      "     3.95422988e-02   3.95422988e-02   3.95422988e-02   3.95422988e-02\n",
      "     3.95422988e-02   3.95422988e-02   3.95422988e-02   3.95422988e-02\n",
      "     3.95422988e-02   3.95422988e-02   3.95422988e-02   3.95422988e-02]\n",
      "  [  3.95422988e-02   2.03036682e+02   2.52036682e+02   2.52036682e+02\n",
      "     2.54036682e+02   9.20366974e+01   1.00366964e+01   1.00366964e+01\n",
      "     3.95422988e-02   3.95422988e-02   3.95422988e-02   3.95422988e-02\n",
      "     3.95422988e-02   3.95422988e-02   3.95422988e-02   3.95422988e-02\n",
      "     3.95422988e-02   3.95422988e-02   3.95422988e-02   3.95422988e-02\n",
      "     3.95422988e-02   3.95422988e-02   3.95422988e-02   3.95422988e-02\n",
      "     3.95422988e-02   3.95422988e-02   3.95422988e-02   3.95422988e-02]\n",
      "  [  3.95422988e-02   2.03036682e+02   2.03036682e+02   2.53036682e+02\n",
      "     2.53036682e+02   2.53036682e+02   2.03036682e+02   3.95422988e-02\n",
      "     3.95422988e-02   3.95422988e-02   3.95422988e-02   3.95422988e-02\n",
      "     3.95422988e-02   3.95422988e-02   3.95422988e-02   3.95422988e-02\n",
      "     3.95422988e-02   3.95422988e-02   3.95422988e-02   3.95422988e-02\n",
      "     3.95422988e-02   3.95422988e-02   3.95422988e-02   3.95422988e-02\n",
      "     3.95422988e-02   3.95422988e-02   3.95422988e-02   3.95422988e-02]\n",
      "  [  3.95422988e-02   2.03036682e+02   2.03036682e+02   1.83036682e+02\n",
      "     2.52036682e+02   2.54036682e+02   2.03036682e+02   8.10366974e+01\n",
      "     3.95422988e-02   3.95422988e-02   3.95422988e-02   3.95422988e-02\n",
      "     3.95422988e-02   3.95422988e-02   3.95422988e-02   3.95422988e-02\n",
      "     3.95422988e-02   3.95422988e-02   3.95422988e-02   3.95422988e-02\n",
      "     3.95422988e-02   3.95422988e-02   3.95422988e-02   3.95422988e-02\n",
      "     3.95422988e-02   3.95422988e-02   3.95422988e-02   3.95422988e-02]\n",
      "  [  3.95422988e-02   3.95422988e-02   3.95422988e-02   2.52036682e+02\n",
      "     2.52036682e+02   2.53036682e+02   2.13036682e+02   2.13036682e+02\n",
      "     3.95422988e-02   3.95422988e-02   3.95422988e-02   3.95422988e-02\n",
      "     3.95422988e-02   3.95422988e-02   3.95422988e-02   3.95422988e-02\n",
      "     3.95422988e-02   3.95422988e-02   3.95422988e-02   3.95422988e-02\n",
      "     3.95422988e-02   3.95422988e-02   3.95422988e-02   3.95422988e-02\n",
      "     3.95422988e-02   3.95422988e-02   3.95422988e-02   3.95422988e-02]\n",
      "  [  3.95422988e-02   3.95422988e-02   3.95422988e-02   1.02036697e+02\n",
      "     2.00366974e+01   2.53036682e+02   2.13036682e+02   2.10366974e+01\n",
      "     3.95422988e-02   3.95422988e-02   3.95422988e-02   3.95422988e-02\n",
      "     3.95422988e-02   3.95422988e-02   3.95422988e-02   3.95422988e-02\n",
      "     3.95422988e-02   3.95422988e-02   3.95422988e-02   3.95422988e-02\n",
      "     3.95422988e-02   3.95422988e-02   3.95422988e-02   3.95422988e-02\n",
      "     3.95422988e-02   3.95422988e-02   3.95422988e-02   3.95422988e-02]\n",
      "  [  3.95422988e-02   3.95422988e-02   3.95422988e-02   3.95422988e-02\n",
      "     3.95422988e-02   6.10366974e+01   6.10366974e+01   3.95422988e-02\n",
      "     3.95422988e-02   3.95422988e-02   3.95422988e-02   3.95422988e-02\n",
      "     3.95422988e-02   3.95422988e-02   3.95422988e-02   3.95422988e-02\n",
      "     3.95422988e-02   3.95422988e-02   3.95422988e-02   3.95422988e-02\n",
      "     3.95422988e-02   3.95422988e-02   3.95422988e-02   3.95422988e-02\n",
      "     3.95422988e-02   3.95422988e-02   3.95422988e-02   3.95422988e-02]\n",
      "  [  3.95422988e-02   3.95422988e-02   3.95422988e-02   3.95422988e-02\n",
      "     3.95422988e-02   3.95422988e-02   3.95422988e-02   3.95422988e-02\n",
      "     3.95422988e-02   3.95422988e-02   3.95422988e-02   3.95422988e-02\n",
      "     3.95422988e-02   3.95422988e-02   3.95422988e-02   3.95422988e-02\n",
      "     3.95422988e-02   3.95422988e-02   3.95422988e-02   3.95422988e-02\n",
      "     3.95422988e-02   3.95422988e-02   3.95422988e-02   3.95422988e-02\n",
      "     3.95422988e-02   3.95422988e-02   3.95422988e-02   3.95422988e-02]\n",
      "  [  3.95422988e-02   3.95422988e-02   3.95422988e-02   3.95422988e-02\n",
      "     3.95422988e-02   3.95422988e-02   3.95422988e-02   3.95422988e-02\n",
      "     3.95422988e-02   3.95422988e-02   3.95422988e-02   3.95422988e-02\n",
      "     3.95422988e-02   3.95422988e-02   3.95422988e-02   3.95422988e-02\n",
      "     3.95422988e-02   3.95422988e-02   3.95422988e-02   3.95422988e-02\n",
      "     3.95422988e-02   3.95422988e-02   3.95422988e-02   3.95422988e-02\n",
      "     3.95422988e-02   3.95422988e-02   3.95422988e-02   3.95422988e-02]\n",
      "  [  3.95422988e-02   3.95422988e-02   3.95422988e-02   3.95422988e-02\n",
      "     3.95422988e-02   3.95422988e-02   3.95422988e-02   3.95422988e-02\n",
      "     3.95422988e-02   3.95422988e-02   3.95422988e-02   3.95422988e-02\n",
      "     3.95422988e-02   3.95422988e-02   3.95422988e-02   3.95422988e-02\n",
      "     3.95422988e-02   3.95422988e-02   3.95422988e-02   3.95422988e-02\n",
      "     3.95422988e-02   3.95422988e-02   3.95422988e-02   3.95422988e-02\n",
      "     3.95422988e-02   3.95422988e-02   3.95422988e-02   3.95422988e-02]\n",
      "  [  3.95422988e-02   3.95422988e-02   3.95422988e-02   3.95422988e-02\n",
      "     3.95422988e-02   3.95422988e-02   3.95422988e-02   3.95422988e-02\n",
      "     3.95422988e-02   3.95422988e-02   3.95422988e-02   3.95422988e-02\n",
      "     3.95422988e-02   3.95422988e-02   3.95422988e-02   3.95422988e-02\n",
      "     3.95422988e-02   3.95422988e-02   3.95422988e-02   3.95422988e-02\n",
      "     3.95422988e-02   3.95422988e-02   3.95422988e-02   3.95422988e-02\n",
      "     3.95422988e-02   3.95422988e-02   3.95422988e-02   3.95422988e-02]\n",
      "  [  3.95422988e-02   3.95422988e-02   3.95422988e-02   3.95422988e-02\n",
      "     3.95422988e-02   3.95422988e-02   3.95422988e-02   3.95422988e-02\n",
      "     3.95422988e-02   3.95422988e-02   3.95422988e-02   3.95422988e-02\n",
      "     3.95422988e-02   3.95422988e-02   3.95422988e-02   3.95422988e-02\n",
      "     3.95422988e-02   3.95422988e-02   3.95422988e-02   3.95422988e-02\n",
      "     3.95422988e-02   3.95422988e-02   3.95422988e-02   3.95422988e-02\n",
      "     3.95422988e-02   3.95422988e-02   3.95422988e-02   3.95422988e-02]\n",
      "  [  3.95422988e-02   3.95422988e-02   3.95422988e-02   3.95422988e-02\n",
      "     3.95422988e-02   3.95422988e-02   3.95422988e-02   3.95422988e-02\n",
      "     3.95422988e-02   3.95422988e-02   3.95422988e-02   3.95422988e-02\n",
      "     3.95422988e-02   3.95422988e-02   3.95422988e-02   3.95422988e-02\n",
      "     3.95422988e-02   3.95422988e-02   3.95422988e-02   3.95422988e-02\n",
      "     3.95422988e-02   3.95422988e-02   3.95422988e-02   3.95422988e-02\n",
      "     3.95422988e-02   3.95422988e-02   3.95422988e-02   3.95422988e-02]]]\n"
     ]
    }
   ],
   "source": [
    "# Configure batch size and retrieve one batch of images\n",
    "for training_images, training_labels in datagen.flow(training_images, training_labels, batch_size=9, shuffle=False):\n",
    "    for i in range(1):\n",
    "        print training_images[i]\n",
    "    break"
   ]
  },
  {
   "cell_type": "code",
   "execution_count": null,
   "metadata": {
    "collapsed": false
   },
   "outputs": [],
   "source": [
    "training_images[2]"
   ]
  },
  {
   "cell_type": "code",
   "execution_count": null,
   "metadata": {
    "collapsed": false
   },
   "outputs": [],
   "source": [
    "## Original\n",
    "for i in range(0, 9):\n",
    "    plt.subplot(330 + 1 + i)\n",
    "    plt.xticks([])\n",
    "    plt.yticks([])\n",
    "    plt.imshow(training_images_origin[i].reshape(28, 28), cmap=plt.cm.gray)"
   ]
  }
 ],
 "metadata": {
  "kernelspec": {
   "display_name": "Python 2",
   "language": "python",
   "name": "python2"
  },
  "language_info": {
   "codemirror_mode": {
    "name": "ipython",
    "version": 2
   },
   "file_extension": ".py",
   "mimetype": "text/x-python",
   "name": "python",
   "nbconvert_exporter": "python",
   "pygments_lexer": "ipython2",
   "version": "2.7.12"
  }
 },
 "nbformat": 4,
 "nbformat_minor": 0
}
