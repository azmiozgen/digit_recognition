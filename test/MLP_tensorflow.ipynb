{
 "cells": [
  {
   "cell_type": "markdown",
   "metadata": {},
   "source": [
    "# Prepare data"
   ]
  },
  {
   "cell_type": "code",
   "execution_count": null,
   "metadata": {
    "collapsed": false
   },
   "outputs": [],
   "source": [
    "%matplotlib inline\n",
    "import matplotlib.pyplot as plt\n",
    "import numpy as np\n",
    "import random, os, time"
   ]
  },
  {
   "cell_type": "code",
   "execution_count": null,
   "metadata": {
    "collapsed": true
   },
   "outputs": [],
   "source": [
    "with open(\"../data/train.csv\") as f:\n",
    "    training_lines_all = [line for line in f]"
   ]
  },
  {
   "cell_type": "code",
   "execution_count": null,
   "metadata": {
    "collapsed": false
   },
   "outputs": [],
   "source": [
    "training_lines = [np.array(line.split(\",\"), dtype='float32') for line in training_lines_all[1:]]"
   ]
  },
  {
   "cell_type": "code",
   "execution_count": null,
   "metadata": {
    "collapsed": false
   },
   "outputs": [],
   "source": [
    "training_images = []\n",
    "training_labels = []\n",
    "training_set = []\n",
    "for line in training_lines:\n",
    "    one_hot = np.zeros((10), dtype='float32')\n",
    "    one_hot[int(line[0])] = 1.0\n",
    "    training_labels.append(one_hot)\n",
    "    training_images.append(np.array(line[1:], dtype='float32'))\n",
    "    training_set.append((one_hot, line[1:]))"
   ]
  },
  {
   "cell_type": "code",
   "execution_count": null,
   "metadata": {
    "collapsed": false
   },
   "outputs": [],
   "source": [
    "## See random 5 digit with their labels\n",
    "random.shuffle(training_set)\n",
    "fig = plt.figure()\n",
    "for i, digit in enumerate(training_set[:5]):\n",
    "    plt.subplot(1, 5, i + 1)\n",
    "    plt.xticks([])\n",
    "    plt.yticks([])\n",
    "    plt.title(digit[0].nonzero()[0][0])  ## Label\n",
    "    plt.imshow(digit[1].reshape((28, 28)), cmap=plt.cm.Greys)"
   ]
  },
  {
   "cell_type": "markdown",
   "metadata": {},
   "source": [
    "# Preparing network"
   ]
  },
  {
   "cell_type": "code",
   "execution_count": null,
   "metadata": {
    "collapsed": true
   },
   "outputs": [],
   "source": [
    "import tensorflow as tf"
   ]
  },
  {
   "cell_type": "code",
   "execution_count": null,
   "metadata": {
    "collapsed": false
   },
   "outputs": [],
   "source": [
    "## Hyper-parameters\n",
    "HIDDEN_SIZE = 500\n",
    "LR = 1e-3\n",
    "BATCH_SIZE = 100\n",
    "EPOCH = 10\n",
    "## Constant\n",
    "TRAINING_SIZE = len(training_set)\n",
    "#TRAINING_SIZE = 1000\n",
    "BATCH = TRAINING_SIZE / BATCH_SIZE"
   ]
  },
  {
   "cell_type": "code",
   "execution_count": null,
   "metadata": {
    "collapsed": true
   },
   "outputs": [],
   "source": [
    "## Input vector\n",
    "x = tf.placeholder(tf.float32, [None, 784])  ## Here 'None' means that a dimension can be of any length"
   ]
  },
  {
   "cell_type": "code",
   "execution_count": null,
   "metadata": {
    "collapsed": false
   },
   "outputs": [],
   "source": [
    "## Creating 3-layers nn (1-input(784), 1-hidden(HIDDEN_SIZE), 1-output(10))\n",
    "W1 = tf.Variable(tf.truncated_normal([784, HIDDEN_SIZE], stddev=0.1))\n",
    "b1 = tf.Variable(tf.zeros([HIDDEN_SIZE]))\n",
    "W2 = tf.Variable(tf.truncated_normal([HIDDEN_SIZE, 10], stddev=0.1))\n",
    "b2 = tf.Variable(tf.zeros([10]))"
   ]
  },
  {
   "cell_type": "code",
   "execution_count": null,
   "metadata": {
    "collapsed": true
   },
   "outputs": [],
   "source": [
    "y1 = tf.nn.relu(tf.matmul(x, W1) + b1)\n",
    "y2 = tf.matmul(y1, W2) + b2"
   ]
  },
  {
   "cell_type": "code",
   "execution_count": null,
   "metadata": {
    "collapsed": true
   },
   "outputs": [],
   "source": [
    "y_ = tf.placeholder(tf.float32, [None, 10])  ## Correct answers"
   ]
  },
  {
   "cell_type": "markdown",
   "metadata": {},
   "source": [
    "** Cross-entropy function **\n",
    "\n",
    "$ -\\sum y_{2} \\log(y) $"
   ]
  },
  {
   "cell_type": "code",
   "execution_count": null,
   "metadata": {
    "collapsed": false
   },
   "outputs": [],
   "source": [
    "cross_entropy = tf.reduce_mean(tf.nn.softmax_cross_entropy_with_logits(logits=y2, labels=y_))"
   ]
  },
  {
   "cell_type": "code",
   "execution_count": null,
   "metadata": {
    "collapsed": true
   },
   "outputs": [],
   "source": [
    "train_step = tf.train.GradientDescentOptimizer(LR).minimize(cross_entropy)"
   ]
  },
  {
   "cell_type": "code",
   "execution_count": null,
   "metadata": {
    "collapsed": true
   },
   "outputs": [],
   "source": [
    "## Check if our prediction matches the truth (gives list of booleans)\n",
    "correct_prediction = tf.equal(tf.argmax(y2, 1), tf.argmax(y_, 1))\n",
    "accuracy = tf.reduce_mean(tf.cast(correct_prediction, tf.float32))"
   ]
  },
  {
   "cell_type": "code",
   "execution_count": null,
   "metadata": {
    "collapsed": false
   },
   "outputs": [],
   "source": [
    "## Launch the model in a session\n",
    "sess = tf.Session()\n",
    "if tf.__version__ == '0.10.0':\n",
    "    sess.run(tf.initialize_all_variables())   ## tensorflow 0.10\n",
    "else:\n",
    "    sess.run(tf.global_variables_initializer())   ## tensorflow 0.12\n",
    "    \n",
    "saver = tf.train.Saver()"
   ]
  },
  {
   "cell_type": "code",
   "execution_count": null,
   "metadata": {
    "collapsed": false,
    "scrolled": true
   },
   "outputs": [],
   "source": [
    "## Training\n",
    "if os.path.isfile(\"../model/MLP_tensorflow/MLP_tensorflow.ckpt\"):\n",
    "    try:\n",
    "        saver.restore(sess, \"../model/MLP_tensorflow/MLP_tensorflow.ckpt\")\n",
    "        print(\"Model restored.\")\n",
    "    except:\n",
    "        print(\"Model is not restored.\")\n",
    "\n",
    "t0 = time.time()\n",
    "for i in xrange(EPOCH):\n",
    "    \n",
    "    random.shuffle(training_set)\n",
    "    batches = [training_set[k:k + BATCH_SIZE] for k in range(0, TRAINING_SIZE, BATCH_SIZE)]\n",
    "  \n",
    "    batch_images = np.array([np.array([digit[1] for digit in batch], dtype='float32')\n",
    "                             for batch in batches], dtype='float32')\n",
    "    batch_labels = np.array([np.array([digit[0] for digit in batch], dtype='float32')\n",
    "                             for batch in batches], dtype='float32')\n",
    "    \n",
    "    total_accuracy = 0.0\n",
    "    for j in xrange(BATCH):\n",
    "        sess.run(train_step, feed_dict={x: batch_images[j], y_: batch_labels[j]})\n",
    "        batch_accuracy = sess.run(accuracy, feed_dict={x: batch_images[j], y_: batch_labels[j]})\n",
    "        total_accuracy += batch_accuracy\n",
    "        \n",
    "    print \"Epoch\",  (i + 1), \": {0:f}\".format(total_accuracy / BATCH)\n",
    "print \"Total time:\", time.time() - t0\n",
    "\n",
    "save_path = saver.save(sess, \"../model/MLP_tensorflow/MLP_tensorflow.ckpt\")\n",
    "print(\"Model saved in file: %s\" %save_path)\n",
    "sess.close()"
   ]
  }
 ],
 "metadata": {
  "kernelspec": {
   "display_name": "Python 2",
   "language": "python",
   "name": "python2"
  },
  "language_info": {
   "codemirror_mode": {
    "name": "ipython",
    "version": 2
   },
   "file_extension": ".py",
   "mimetype": "text/x-python",
   "name": "python",
   "nbconvert_exporter": "python",
   "pygments_lexer": "ipython2",
   "version": "2.7.12"
  }
 },
 "nbformat": 4,
 "nbformat_minor": 0
}
